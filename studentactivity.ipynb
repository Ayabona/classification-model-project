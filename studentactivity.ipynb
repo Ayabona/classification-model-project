{
  "nbformat": 4,
  "nbformat_minor": 0,
  "metadata": {
    "colab": {
      "provenance": []
    },
    "kernelspec": {
      "name": "python3",
      "display_name": "Python 3"
    },
    "language_info": {
      "name": "python"
    }
  },
  "cells": [
    {
      "cell_type": "markdown",
      "source": [
        "A.Zwana 22409287"
      ],
      "metadata": {
        "id": "6fQGyhjcIVoK"
      }
    },
    {
      "cell_type": "code",
      "source": [
        "# Import required packages\n",
        "\n",
        "import pandas as pd\n",
        "import numpy as np\n",
        "import matplotlib.pyplot as plt\n",
        "from sklearn.datasets import load_breast_cancer\n",
        "from sklearn.model_selection import train_test_split\n",
        "from sklearn.linear_model import LogisticRegression\n",
        "from sklearn.ensemble import RandomForestClassifier\n",
        "from sklearn.metrics import accuracy_score, confusion_matrix, classification_report"
      ],
      "metadata": {
        "id": "oUtP_FIpIjVp"
      },
      "execution_count": 1,
      "outputs": []
    },
    {
      "cell_type": "code",
      "source": [
        "# Load dataset\n",
        "data = load_breast_cancer()\n",
        "X = pd.DataFrame(data.data, columns=data.feature_names)\n",
        "y = data.target\n",
        "\n",
        "# Split data (70% train, 30% test)\n",
        "X_train, X_test, y_train, y_test = train_test_split(X, y, test_size=0.3, random_state=42)\n",
        "\n",
        "print(\"Dataset loaded successfully!\")\n",
        "print(f\"Training samples: {len(X_train)}\")\n",
        "print(f\"Test samples: {len(X_test)}\")"
      ],
      "metadata": {
        "colab": {
          "base_uri": "https://localhost:8080/"
        },
        "id": "ts5YKRoaIx2w",
        "outputId": "62770711-514e-4d81-fbd6-cebbd6261960"
      },
      "execution_count": null,
      "outputs": [
        {
          "output_type": "stream",
          "name": "stdout",
          "text": [
            "Dataset loaded successfully!\n",
            "Training samples: 398\n",
            "Test samples: 171\n"
          ]
        }
      ]
    },
    {
      "cell_type": "code",
      "source": [
        "# Logistic Regression Model\n",
        "logreg = LogisticRegression(max_iter=10000)  # As specified in your PDF\n",
        "logreg.fit(X_train, y_train)\n",
        "\n",
        "# Evaluate\n",
        "y_pred_log = logreg.predict(X_test)\n",
        "print(\"Logistic Regression Results:\")\n",
        "print(f\"Accuracy: {accuracy_score(y_test, y_pred_log):.2f}\")\n",
        "print(classification_report(y_test, y_pred_log))"
      ],
      "metadata": {
        "colab": {
          "base_uri": "https://localhost:8080/"
        },
        "id": "JGtGyk55I4oK",
        "outputId": "61404d79-3654-47ff-b7a0-3f33d81b6393"
      },
      "execution_count": null,
      "outputs": [
        {
          "output_type": "stream",
          "name": "stdout",
          "text": [
            "Logistic Regression Results:\n",
            "Accuracy: 0.98\n",
            "              precision    recall  f1-score   support\n",
            "\n",
            "           0       0.97      0.97      0.97        63\n",
            "           1       0.98      0.98      0.98       108\n",
            "\n",
            "    accuracy                           0.98       171\n",
            "   macro avg       0.97      0.97      0.97       171\n",
            "weighted avg       0.98      0.98      0.98       171\n",
            "\n"
          ]
        }
      ]
    },
    {
      "cell_type": "code",
      "source": [
        "# Random Forest Model\n",
        "rf = RandomForestClassifier(n_estimators=100)\n",
        "rf.fit(X_train, y_train)\n",
        "\n",
        "# Evaluate\n",
        "y_pred_rf = rf.predict(X_test)\n",
        "print(\"Random Forest Results:\")\n",
        "print(f\"Accuracy: {accuracy_score(y_test, y_pred_rf):.2f}\")\n",
        "print(classification_report(y_test, y_pred_rf))"
      ],
      "metadata": {
        "colab": {
          "base_uri": "https://localhost:8080/"
        },
        "id": "v1oIRvNwI9xR",
        "outputId": "6f41c088-57cb-4489-a99d-709551b33c96"
      },
      "execution_count": null,
      "outputs": [
        {
          "output_type": "stream",
          "name": "stdout",
          "text": [
            "Random Forest Results:\n",
            "Accuracy: 0.96\n",
            "              precision    recall  f1-score   support\n",
            "\n",
            "           0       0.97      0.94      0.95        63\n",
            "           1       0.96      0.98      0.97       108\n",
            "\n",
            "    accuracy                           0.96       171\n",
            "   macro avg       0.97      0.96      0.96       171\n",
            "weighted avg       0.96      0.96      0.96       171\n",
            "\n"
          ]
        }
      ]
    },
    {
      "cell_type": "code",
      "source": [
        "# Compare performance\n",
        "print(\"Model Comparison:\")\n",
        "print(f\"- Logistic Regression Accuracy: {accuracy_score(y_test, y_pred_log):.4f}\")\n",
        "print(f\"- Random Forest Accuracy: {accuracy_score(y_test, y_pred_rf):.4f}\")\n",
        "\n",
        "# Answer PDF discussion questions\n",
        "print(\"\\nDiscussion:\")\n",
        "print(\"1. Use Logistic Regression for interpretable, linear relationships.\")\n",
        "print(\"2. Use Random Forest for complex data with many features.\")"
      ],
      "metadata": {
        "colab": {
          "base_uri": "https://localhost:8080/"
        },
        "id": "_nN9AJw_JAqJ",
        "outputId": "044f6efc-3b81-4aee-e9a1-37a7f3519a1a"
      },
      "execution_count": null,
      "outputs": [
        {
          "output_type": "stream",
          "name": "stdout",
          "text": [
            "Model Comparison:\n",
            "- Logistic Regression Accuracy: 0.9766\n",
            "- Random Forest Accuracy: 0.9649\n",
            "\n",
            "Discussion:\n",
            "1. Use Logistic Regression for interpretable, linear relationships.\n",
            "2. Use Random Forest for complex data with many features.\n"
          ]
        }
      ]
    },
    {
      "cell_type": "code",
      "source": [],
      "metadata": {
        "id": "N0TrCU9PJH17"
      },
      "execution_count": null,
      "outputs": []
    }
  ]
}